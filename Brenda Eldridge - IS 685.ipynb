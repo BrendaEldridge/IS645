{
 "cells": [
  {
   "cell_type": "markdown",
   "metadata": {},
   "source": [
    "# Brenda Eldridge \n",
    "<b>\n",
    "IS 685<br/>\n",
    "Final Project\n",
    "</b>\n"
   ]
  },
  {
   "cell_type": "markdown",
   "metadata": {},
   "source": [
    "# Data Collection\n",
    "\n",
    "I will be analyzing the giving data from the University of Nevada, Reno Foundation. The giving data is for indivudals only, organizations and foundations have been excluded. The data will be for cash gifts, pledges, gift in kinds, etc. have been excluded from the dataset. I have limited the giving data for the past 5 full years - 2013 to 2017. The giving data is summarize by monthly giving, by donor."
   ]
  },
  {
   "cell_type": "markdown",
   "metadata": {},
   "source": [
    "<b>Import Libraries<b/>"
   ]
  },
  {
   "cell_type": "code",
   "execution_count": 934,
   "metadata": {},
   "outputs": [],
   "source": [
    "import pandas as pd\n",
    "import numpy as np\n",
    "import matplotlib.pyplot as plt\n",
    "import seaborn as sns\n",
    "from scipy.stats import pearsonr\n",
    "from sklearn import linear_model\n",
    "from sklearn.model_selection import train_test_split\n",
    "from sklearn.model_selection import cross_val_score\n",
    "from sklearn.linear_model import Ridge\n",
    "from sklearn.linear_model import Lasso\n",
    "spacer = '=========================================================================================='"
   ]
  },
  {
   "cell_type": "markdown",
   "metadata": {},
   "source": [
    "#  Clean and Exploratory Data Analysis\n",
    "    - Basic data exploration\n",
    "    - Handle Missing values: \n",
    "        Gender - we have unknown as a gender type\n",
    "        Age - we are missing ages on some donor records\n",
    "    - Check datatypes\n",
    "    - Drop Columns that are not going to be used\n"
   ]
  },
  {
   "cell_type": "code",
   "execution_count": 935,
   "metadata": {},
   "outputs": [],
   "source": [
    "gifts = pd.read_csv('C:\\gifts.csv')\n",
    "gifts_all = pd.read_csv('C:\\gifts.csv')"
   ]
  },
  {
   "cell_type": "code",
   "execution_count": 936,
   "metadata": {},
   "outputs": [
    {
     "name": "stdout",
     "output_type": "stream",
     "text": [
      "Gifts Head==========================================================================================\n",
      "   RID  Gender  NevadaResident  Alumni  Age  GiftYear  GiftMonth  GiftCount  \\\n",
      "0   19  Female               1       1   53      2014         10          1   \n",
      "1   20    Male               1       0   52      2015          7          1   \n",
      "2   32    Male               0       1   55      2014         11          1   \n",
      "3   46    Male               1       1   52      2013          6          1   \n",
      "4   46    Male               1       1   52      2014          5          1   \n",
      "\n",
      "    GiftDate  MonthlyGift  \n",
      "0  10/1/2014        100.0  \n",
      "1   7/1/2015       2200.0  \n",
      "2  11/1/2014         50.0  \n",
      "3   6/1/2013         25.0  \n",
      "4   5/1/2014         50.0  \n",
      "Gifts Stats==========================================================================================\n",
      "                 RID  NevadaResident         Alumni            Age  \\\n",
      "count  115003.000000   115003.000000  115003.000000  115003.000000   \n",
      "mean   255818.431658        0.829935       0.385799      26.895855   \n",
      "std    172604.945242        0.375692       0.486785      30.037721   \n",
      "min        19.000000        0.000000       0.000000      -4.000000   \n",
      "25%     73498.000000        1.000000       0.000000       0.000000   \n",
      "50%    274000.000000        1.000000       0.000000       0.000000   \n",
      "75%    401267.000000        1.000000       1.000000      56.000000   \n",
      "max    578507.000000        1.000000       1.000000     100.000000   \n",
      "\n",
      "            GiftYear      GiftMonth      GiftCount   MonthlyGift  \n",
      "count  115003.000000  115003.000000  115003.000000  1.150030e+05  \n",
      "mean     2015.303062       6.551168       1.129431  5.596255e+02  \n",
      "std         1.421354       3.398456       0.446572  1.481390e+04  \n",
      "min      2013.000000       1.000000       1.000000  1.000000e-02  \n",
      "25%      2014.000000       4.000000       1.000000  1.000000e+01  \n",
      "50%      2015.000000       6.000000       1.000000  5.000000e+01  \n",
      "75%      2017.000000      10.000000       1.000000  1.990000e+02  \n",
      "max      2017.000000      12.000000      36.000000  2.097800e+06  \n",
      "Gift Rows & Columns==========================================================================================\n",
      "(115003, 10)\n",
      "Gift Data Types==========================================================================================\n",
      "   RID  Gender  NevadaResident  Alumni  Age  GiftYear  GiftMonth  GiftCount  \\\n",
      "0   19  Female               1       1   53      2014         10          1   \n",
      "1   20    Male               1       0   52      2015          7          1   \n",
      "2   32    Male               0       1   55      2014         11          1   \n",
      "3   46    Male               1       1   52      2013          6          1   \n",
      "4   46    Male               1       1   52      2014          5          1   \n",
      "\n",
      "    GiftDate  MonthlyGift  \n",
      "0  10/1/2014        100.0  \n",
      "1   7/1/2015       2200.0  \n",
      "2  11/1/2014         50.0  \n",
      "3   6/1/2013         25.0  \n",
      "4   5/1/2014         50.0  \n",
      "RID                 int64\n",
      "Gender             object\n",
      "NevadaResident      int64\n",
      "Alumni              int64\n",
      "Age                 int64\n",
      "GiftYear            int64\n",
      "GiftMonth           int64\n",
      "GiftCount           int64\n",
      "GiftDate           object\n",
      "MonthlyGift       float64\n",
      "dtype: object\n"
     ]
    }
   ],
   "source": [
    "print('Gifts Head' + spacer)\n",
    "print(gifts.head())\n",
    "print('Gifts Stats' + spacer)\n",
    "print(gifts.describe())\n",
    "print('Gift Rows & Columns' + spacer)\n",
    "print(gifts.shape)\n",
    "print('Gift Data Types' + spacer)\n",
    "print(gifts.head())\n",
    "print(gifts.dtypes)"
   ]
  },
  {
   "cell_type": "code",
   "execution_count": 937,
   "metadata": {},
   "outputs": [
    {
     "name": "stdout",
     "output_type": "stream",
     "text": [
      "RID                        int64\n",
      "Gender                  category\n",
      "NevadaResident          category\n",
      "Alumni                  category\n",
      "Age                        int64\n",
      "GiftYear                   int64\n",
      "GiftMonth                  int64\n",
      "GiftCount                  int64\n",
      "GiftDate          datetime64[ns]\n",
      "MonthlyGift              float64\n",
      "dtype: object\n"
     ]
    }
   ],
   "source": [
    "#Change datatypes\n",
    "gifts['Gender'] = gifts['Gender'].astype('category')\n",
    "gifts['NevadaResident'] = gifts['NevadaResident'].astype('category')\n",
    "gifts['Alumni'] = gifts['Alumni'].astype('category')                                              \n",
    "gifts['GiftDate']= gifts['GiftDate'].astype('datetime64')\n",
    "gifts['Age'] = gifts['Age'].astype('int64')  \n",
    "print(gifts.dtypes)"
   ]
  },
  {
   "cell_type": "code",
   "execution_count": 938,
   "metadata": {
    "scrolled": true
   },
   "outputs": [
    {
     "data": {
      "text/plain": [
       "Gender\n",
       "Female     55574\n",
       "Male       59226\n",
       "Unknown      203\n",
       "dtype: int64"
      ]
     },
     "execution_count": 938,
     "metadata": {},
     "output_type": "execute_result"
    }
   ],
   "source": [
    "gifts.groupby(['Gender']).size()"
   ]
  },
  {
   "cell_type": "code",
   "execution_count": 939,
   "metadata": {},
   "outputs": [
    {
     "name": "stdout",
     "output_type": "stream",
     "text": [
      "(115003, 7)\n"
     ]
    }
   ],
   "source": [
    "gifts.drop(['GiftMonth'], axis=1,inplace = True)\n",
    "gifts.drop(['GiftYear'], axis=1,inplace = True)\n",
    "gifts.drop(['GiftDate'], axis=1, inplace=True)\n",
    "print(gifts.shape)"
   ]
  },
  {
   "cell_type": "markdown",
   "metadata": {},
   "source": [
    "<b>Since we have less than 1% of missing gender data - I will delete the 203 records with unknown gender.</b>\n",
    "    "
   ]
  },
  {
   "cell_type": "code",
   "execution_count": 940,
   "metadata": {},
   "outputs": [
    {
     "name": "stdout",
     "output_type": "stream",
     "text": [
      "Gender\n",
      "Female     55574\n",
      "Male       59226\n",
      "Unknown        0\n",
      "dtype: int64\n"
     ]
    }
   ],
   "source": [
    "gifts= gifts.drop(gifts[gifts.Gender == 'Unknown'].index)\n",
    "print(gifts.groupby(['Gender']).size())"
   ]
  },
  {
   "cell_type": "code",
   "execution_count": 941,
   "metadata": {},
   "outputs": [
    {
     "name": "stdout",
     "output_type": "stream",
     "text": [
      "Records with missing age==========================================================================================\n",
      "Gender\n",
      "Female     30219\n",
      "Male       29593\n",
      "Unknown        0\n",
      "Name: Age, dtype: int64\n"
     ]
    }
   ],
   "source": [
    "# determine the number of records with missing age\n",
    "print('Records with missing age' + spacer )\n",
    "print(gifts[gifts['Age'] ==0].groupby(['Gender'])['Age'].count())"
   ]
  },
  {
   "cell_type": "code",
   "execution_count": 942,
   "metadata": {},
   "outputs": [
    {
     "name": "stdout",
     "output_type": "stream",
     "text": [
      "Gender Mean==========================================================================================\n",
      "Gender\n",
      "Female     54.894616\n",
      "Male       57.390612\n",
      "Unknown          NaN\n",
      "Name: Age, dtype: float64\n",
      "Gender Median==========================================================================================\n",
      "Gender\n",
      "Female     56.0\n",
      "Male       59.0\n",
      "Unknown     NaN\n",
      "Name: Age, dtype: float64\n"
     ]
    }
   ],
   "source": [
    "print(\"Gender Mean\" + spacer)\n",
    "print(gifts[gifts['Age'] !=0].groupby(['Gender'])['Age'].mean())\n",
    "print(\"Gender Median\" + spacer)\n",
    "print(gifts[gifts['Age'] !=0].groupby(['Gender'])['Age'].median())\n",
    "\n"
   ]
  },
  {
   "cell_type": "code",
   "execution_count": 943,
   "metadata": {},
   "outputs": [
    {
     "data": {
      "text/plain": [
       "array([<matplotlib.axes._subplots.AxesSubplot object at 0x0000021082A23BE0>,\n",
       "       <matplotlib.axes._subplots.AxesSubplot object at 0x00000210802A7EF0>],\n",
       "      dtype=object)"
      ]
     },
     "execution_count": 943,
     "metadata": {},
     "output_type": "execute_result"
    },
    {
     "data": {
      "image/png": "[encoded data removed]",
      "text/plain": [
       "<Figure size 432x288 with 1 Axes>"
      ]
     },
     "metadata": {},
     "output_type": "display_data"
    },
    {
     "data": {
      "image/png": "[encoded data removed]",
      "text/plain": [
       "<Figure size 432x288 with 2 Axes>"
      ]
     },
     "metadata": {},
     "output_type": "display_data"
    }
   ],
   "source": [
    "gifts.hist(column='Age')\n",
    "gifts.hist(column='Age', by='NevadaResident')"
   ]
  },
  {
   "cell_type": "markdown",
   "metadata": {},
   "source": [
    "<b>We have some data quality issues with Age as well a significant number of missing values - 60,011 about 50%.  So I will use the median values of the ages by gender. There are also some ages on the negative and lower bound so I will delete ages < 18.\n",
    "<b/>"
   ]
  },
  {
   "cell_type": "code",
   "execution_count": 944,
   "metadata": {},
   "outputs": [
    {
     "name": "stdout",
     "output_type": "stream",
     "text": [
      "-4\n",
      "20\n"
     ]
    }
   ],
   "source": [
    "print(gifts['Age'].min())\n",
    "gifts= gifts.drop(gifts[gifts.Age < 18].index)\n",
    "print(gifts['Age'].min())\n"
   ]
  },
  {
   "cell_type": "code",
   "execution_count": 945,
   "metadata": {},
   "outputs": [
    {
     "name": "stdout",
     "output_type": "stream",
     "text": [
      "56.0\n",
      "Empty DataFrame\n",
      "Columns: [RID, Gender, NevadaResident, Alumni, Age, GiftCount, MonthlyGift]\n",
      "Index: []\n",
      "59.0\n",
      "Empty DataFrame\n",
      "Columns: [RID, Gender, NevadaResident, Alumni, Age, GiftCount, MonthlyGift]\n",
      "Index: []\n",
      "58\n",
      "Empty DataFrame\n",
      "Columns: [RID, Gender, NevadaResident, Alumni, Age, GiftCount, MonthlyGift]\n",
      "Index: []\n",
      "Gifts Stats==========================================================================================\n",
      "                 RID           Age     GiftCount   MonthlyGift\n",
      "count   54971.000000  54971.000000  54971.000000  5.497100e+04\n",
      "mean   184963.278929     56.258336      1.186498  8.010196e+02\n",
      "std    147319.400282     15.333868      0.529226  2.023940e+04\n",
      "min        19.000000     20.000000      1.000000  1.000000e-02\n",
      "25%     55934.000000     44.000000      1.000000  1.500000e+01\n",
      "50%    159844.000000     58.000000      1.000000  5.000000e+01\n",
      "75%    301210.000000     68.000000      1.000000  2.030000e+02\n",
      "max    572291.000000    100.000000     18.000000  2.097800e+06\n"
     ]
    }
   ],
   "source": [
    "#Female Age missing value\n",
    "Female_median = gifts.loc[(gifts['Age'] != 0) & (gifts['Gender'] == 'Female') ,'Age'].median()\n",
    "print (Female_median)\n",
    "gifts.loc[(gifts['Age'] == 0) & (gifts['Gender'] == 'Female') ,'Age'] = Female_median\n",
    "print(gifts.loc[(gifts['Age'] == 0) & (gifts['Gender']=='Female')]) # Code Check\n",
    "\n",
    "#Male Age missing value\n",
    "Male_median = gifts.loc[(gifts['Age'] != 0) & (gifts['Gender'] == 'Male') ,'Age'].median()\n",
    "print (Male_median)\n",
    "gifts.loc[(gifts['Age'] == 0) & (gifts['Gender'] == 'Male') ,'Age'] = Male_median\n",
    "print(gifts.loc[(gifts['Age'] == 0) & (gifts['Gender']=='Male')]) # Code Check\n",
    "\n",
    "#Unknowns\n",
    "#Unknown Age missing value\n",
    "UKMedian = round((Female_median + Male_median)/2)\n",
    "Unknown_median = gifts.loc[(gifts['Age'] != 0) & (gifts['Gender'] == 'Unknown') ,'Age'] = UKMedian\n",
    "print (Unknown_median)\n",
    "gifts.loc[(gifts['Age'] == 0) & (gifts['Gender'] == 'Unknown') ,'Age'] = Unknown_median\n",
    "print(gifts.loc[(gifts['Age'] == 0) & (gifts['Gender']=='Unknown')]) # Code Check\n",
    "\n",
    "print('Gifts Stats' + spacer)\n",
    "print(gifts.describe())"
   ]
  },
  {
   "cell_type": "code",
   "execution_count": 946,
   "metadata": {},
   "outputs": [
    {
     "data": {
      "text/plain": [
       "array([[<matplotlib.axes._subplots.AxesSubplot object at 0x000002107DABD9B0>]],\n",
       "      dtype=object)"
      ]
     },
     "execution_count": 946,
     "metadata": {},
     "output_type": "execute_result"
    },
    {
     "data": {
      "image/png": "[encoded data removed]",
      "text/plain": [
       "<Figure size 432x288 with 1 Axes>"
      ]
     },
     "metadata": {},
     "output_type": "display_data"
    }
   ],
   "source": [
    "#Histogram\n",
    "gifts.hist(column='Age')"
   ]
  },
  {
   "cell_type": "code",
   "execution_count": 947,
   "metadata": {
    "scrolled": true
   },
   "outputs": [
    {
     "data": {
      "text/plain": [
       "<matplotlib.axes._subplots.AxesSubplot at 0x2107dabda90>"
      ]
     },
     "execution_count": 947,
     "metadata": {},
     "output_type": "execute_result"
    },
    {
     "data": {
      "image/png": "[encoded data removed]",
      "text/plain": [
       "<Figure size 432x288 with 1 Axes>"
      ]
     },
     "metadata": {},
     "output_type": "display_data"
    }
   ],
   "source": [
    "sns.boxplot(x=gifts['MonthlyGift'])\n"
   ]
  },
  {
   "cell_type": "code",
   "execution_count": 948,
   "metadata": {},
   "outputs": [
    {
     "name": "stdout",
     "output_type": "stream",
     "text": [
      "(54971, 7)\n",
      "Count of Gifts over 100K to be deleted:\n",
      "40\n"
     ]
    }
   ],
   "source": [
    "#Get a count of the outlier to be deleted\n",
    "print(gifts.shape)\n",
    "tg = len(gifts[gifts['MonthlyGift'] >100000]) \n",
    "print('Count of Gifts over 100K to be deleted:')\n",
    "print(tg)\n",
    "               "
   ]
  },
  {
   "cell_type": "markdown",
   "metadata": {},
   "source": [
    "<b>There are 40 gifts over 100K - I will remove those outliers. <b/>"
   ]
  },
  {
   "cell_type": "code",
   "execution_count": 949,
   "metadata": {
    "scrolled": true
   },
   "outputs": [
    {
     "name": "stdout",
     "output_type": "stream",
     "text": [
      "(54931, 7)\n"
     ]
    },
    {
     "data": {
      "image/png": "[encoded data removed]",
      "text/plain": [
       "<Figure size 432x288 with 1 Axes>"
      ]
     },
     "metadata": {},
     "output_type": "display_data"
    }
   ],
   "source": [
    "gifts= gifts.drop(gifts[gifts.MonthlyGift >100000].index)\n",
    "print(gifts.shape)\n",
    "MG = plt.boxplot(gifts['MonthlyGift'],1)\n",
    "plt.show(MG)"
   ]
  },
  {
   "cell_type": "code",
   "execution_count": 950,
   "metadata": {},
   "outputs": [
    {
     "data": {
      "text/plain": [
       "Text(0,0.5,'Frequency')"
      ]
     },
     "execution_count": 950,
     "metadata": {},
     "output_type": "execute_result"
    },
    {
     "data": {
      "image/png": "[encoded data removed]",
      "text/plain": [
       "<Figure size 432x288 with 1 Axes>"
      ]
     },
     "metadata": {},
     "output_type": "display_data"
    }
   ],
   "source": [
    "fig, ax = plt.subplots()\n",
    "gifts['Age'].hist(color='#A9C5D3', edgecolor='black',  \n",
    "                          grid=False)\n",
    "ax.set_title('Donor Age Histogram', fontsize=12)\n",
    "ax.set_xlabel('Age', fontsize=12)\n",
    "ax.set_ylabel('Frequency', fontsize=12)"
   ]
  },
  {
   "cell_type": "code",
   "execution_count": 951,
   "metadata": {},
   "outputs": [
    {
     "data": {
      "text/plain": [
       "<matplotlib.axes._subplots.AxesSubplot at 0x210836f3358>"
      ]
     },
     "execution_count": 951,
     "metadata": {},
     "output_type": "execute_result"
    },
    {
     "data": {
      "image/png": "[encoded data removed]",
      "text/plain": [
       "<Figure size 432x288 with 1 Axes>"
      ]
     },
     "metadata": {},
     "output_type": "display_data"
    }
   ],
   "source": [
    "gifts.boxplot(by='Gender', column='MonthlyGift')"
   ]
  },
  {
   "cell_type": "code",
   "execution_count": 952,
   "metadata": {},
   "outputs": [
    {
     "data": {
      "text/plain": [
       "<matplotlib.axes._subplots.AxesSubplot at 0x2107bcddb38>"
      ]
     },
     "execution_count": 952,
     "metadata": {},
     "output_type": "execute_result"
    },
    {
     "data": {
      "image/png": "[encoded data removed]",
      "text/plain": [
       "<Figure size 432x288 with 1 Axes>"
      ]
     },
     "metadata": {},
     "output_type": "display_data"
    }
   ],
   "source": [
    "gifts.boxplot(by='Alumni', column='MonthlyGift')"
   ]
  },
  {
   "cell_type": "code",
   "execution_count": 953,
   "metadata": {},
   "outputs": [
    {
     "data": {
      "text/plain": [
       "<matplotlib.axes._subplots.AxesSubplot at 0x2107dea4470>"
      ]
     },
     "execution_count": 953,
     "metadata": {},
     "output_type": "execute_result"
    },
    {
     "data": {
      "image/png": "[encoded data removed]",
      "text/plain": [
       "<Figure size 432x288 with 1 Axes>"
      ]
     },
     "metadata": {},
     "output_type": "display_data"
    }
   ],
   "source": [
    "gifts.boxplot(by='NevadaResident', column='MonthlyGift')"
   ]
  },
  {
   "cell_type": "code",
   "execution_count": 954,
   "metadata": {
    "scrolled": false
   },
   "outputs": [
    {
     "name": "stdout",
     "output_type": "stream",
     "text": [
      "Gender Mean==========================================================================================\n",
      "Gender\n",
      "Female     54.923921\n",
      "Male       57.377542\n",
      "Unknown          NaN\n",
      "Name: Age, dtype: float64\n",
      "Gender Median==========================================================================================\n",
      "Gender\n",
      "Female     56.0\n",
      "Male       59.0\n",
      "Unknown     NaN\n",
      "Name: Age, dtype: float64\n",
      "Gender Standard Deviation==========================================================================================\n",
      "Gender\n",
      "Female     15.041793\n",
      "Male       15.482519\n",
      "Unknown          NaN\n",
      "Name: Age, dtype: float64\n"
     ]
    }
   ],
   "source": [
    "print(\"Gender Mean\" + spacer)\n",
    "print(gifts.groupby(['Gender'])['Age'].mean())\n",
    "print(\"Gender Median\" + spacer)\n",
    "print(gifts.groupby(['Gender'])['Age'].median())\n",
    "print(\"Gender Standard Deviation\" + spacer)\n",
    "print(gifts.groupby(['Gender'])['Age'].std())\n"
   ]
  },
  {
   "cell_type": "code",
   "execution_count": 955,
   "metadata": {},
   "outputs": [
    {
     "name": "stdout",
     "output_type": "stream",
     "text": [
      "Gender Mean==========================================================================================\n",
      "Gender\n",
      "Female     260.942747\n",
      "Male       574.842082\n",
      "Unknown           NaN\n",
      "Name: MonthlyGift, dtype: float64\n",
      "Gender Median==========================================================================================\n",
      "Gender\n",
      "Female     29.0\n",
      "Male       85.0\n",
      "Unknown     NaN\n",
      "Name: MonthlyGift, dtype: float64\n",
      "Gender Standard Deviation==========================================================================================\n",
      "Gender\n",
      "Female     1867.014849\n",
      "Male       2753.589106\n",
      "Unknown            NaN\n",
      "Name: MonthlyGift, dtype: float64\n"
     ]
    }
   ],
   "source": [
    "print(\"Gender Mean\" + spacer)\n",
    "print(gifts.groupby(['Gender'])['MonthlyGift'].mean())\n",
    "print(\"Gender Median\" + spacer)\n",
    "print(gifts.groupby(['Gender'])['MonthlyGift'].median())\n",
    "print(\"Gender Standard Deviation\" + spacer)\n",
    "print(gifts.groupby(['Gender'])['MonthlyGift'].std())\n"
   ]
  },
  {
   "cell_type": "code",
   "execution_count": 956,
   "metadata": {},
   "outputs": [
    {
     "name": "stdout",
     "output_type": "stream",
     "text": [
      "Nevada Resident Mean==========================================================================================\n",
      "NevadaResident\n",
      "0    395.993665\n",
      "1    435.647537\n",
      "Name: MonthlyGift, dtype: float64\n",
      "Nevada Resident Median==========================================================================================\n",
      "NevadaResident\n",
      "0    50.0\n",
      "1    50.0\n",
      "Name: MonthlyGift, dtype: float64\n",
      "Nevada Resident Standard Deviation==========================================================================================\n",
      "NevadaResident\n",
      "0    2580.564580\n",
      "1    2358.923615\n",
      "Name: MonthlyGift, dtype: float64\n"
     ]
    }
   ],
   "source": [
    "print(\"Nevada Resident Mean\" + spacer)\n",
    "print(gifts.groupby(['NevadaResident'])['MonthlyGift'].mean())\n",
    "print(\"Nevada Resident Median\" + spacer)\n",
    "print(gifts.groupby(['NevadaResident'])['MonthlyGift'].median())\n",
    "print(\"Nevada Resident Standard Deviation\" + spacer)\n",
    "print(gifts.groupby(['NevadaResident'])['MonthlyGift'].std())"
   ]
  },
  {
   "cell_type": "code",
   "execution_count": 957,
   "metadata": {},
   "outputs": [
    {
     "name": "stdout",
     "output_type": "stream",
     "text": [
      "Alumni Mean==========================================================================================\n",
      "Alumni\n",
      "0    477.481902\n",
      "1    405.331978\n",
      "Name: MonthlyGift, dtype: float64\n",
      "Alumni Median==========================================================================================\n",
      "Alumni\n",
      "0    35.0\n",
      "1    50.0\n",
      "Name: MonthlyGift, dtype: float64\n",
      "Alumni Standard Deviation==========================================================================================\n",
      "Alumni\n",
      "0    3019.957351\n",
      "1    1984.297083\n",
      "Name: MonthlyGift, dtype: float64\n"
     ]
    }
   ],
   "source": [
    "print(\"Alumni Mean\" + spacer)\n",
    "print(gifts.groupby(['Alumni'])['MonthlyGift'].mean())\n",
    "print(\"Alumni Median\" + spacer)\n",
    "print(gifts.groupby(['Alumni'])['MonthlyGift'].median())\n",
    "print(\"Alumni Standard Deviation\" + spacer)\n",
    "print(gifts.groupby(['Alumni'])['MonthlyGift'].std())"
   ]
  },
  {
   "cell_type": "code",
   "execution_count": null,
   "metadata": {},
   "outputs": [],
   "source": []
  },
  {
   "cell_type": "markdown",
   "metadata": {},
   "source": [
    "# Data Analysis Summary: \n",
    "\n",
    "At first glance, I realized that I had some data anomalies.  I had a mean age of 26, which was due to several missing values.  After further analysis, I determined that we had over 50% of the data with the age equal to zero.  I determined that there was a difference in mean ages among males and females, so I decided to handle the missing values by calculating the age mean by gender and applying those.  Then I got a nice age distribution. I had a mean of 55 for females and 57 for males with a standard deviation of ~15 for both genders.\n",
    "\n",
    "I analyzed the mean monthly gift by gender and the males had an average of \\$315 more than females.  On average males had a monthly gift amount of \\$575 and females \\$261, however the standard deviation for males was\n",
    "much higher than females with males at \\$2,755 and females at \\$1,870.\n",
    "\n",
    "Nevada residents had a slightly higher mean monthly gift over non-residents.  Although I thought this to be true, I was actually surprise because I lumped everything into the non-resident including both USA and international gifts.  The average Nevada resident gift was \\$435 and the non-resident was \\$395 and the standard deviations were close at \\$2,358 and \\$2,580 respectively.\n",
    "\n",
    "Surprisingly, Alumni average monthly gift amount was less than non-alumni, although slightly.  The average monthly gift for an Alumni was \\$405 and non-alumni was \\$477.  The non-alumni had a greater standard deviation at \\$3,019 compared to Alumni at \\$1,984\n",
    "\n",
    "Next, I looked at the annual gift distributions by gender.  I had 40 significant outliers that could skew my analysis, so I deleted the annual gifts over 100K.  At this point I was satisfied with the results, however I may want to go back and delete the gifts in the 75K -100K range.\n",
    "\n",
    "I also analyzed the monthly gift distribution and noticed that I had a few outlier and so I decided to delete the 40 gifts that were over \\$100K.  That still left me with some outiers in the \\$80-\\$100K, but I decided to move forward with my analysis.\n",
    "\n",
    "I want to be able to predict annual donation amount base on gender, age, alumni status, and Nevada residency. \n"
   ]
  },
  {
   "cell_type": "markdown",
   "metadata": {},
   "source": [
    "# Hypothesis  \n",
    "\n",
    "<b>Null Hypothesis:</b> No difference in the average annual gifts amounts in a population based on Age, Gender, Nevada Residence, and Alumnus Status.\n",
    "\n",
    "<b>Alternate Hypothesis:</b> There is a difference in the average annual gift amounts in a population based on Age, Gender, Nevada Residence, and Alumnus Status.\n",
    "\n",
    "H<sub>0</sub> = Age, Gender, Nevada Residence, Alumni Status = 0\n",
    "\n",
    "H<sub>1</sub> = Age, Gender, Nevada Residence, Alumni Status ≠ 0\n",
    "\n",
    "Reject H<sub>0</sub> if p < α \n",
    "where α = .05\n"
   ]
  },
  {
   "cell_type": "markdown",
   "metadata": {},
   "source": [
    "# Hyphothesis Test, Feature Engineering, and Model Selection\n"
   ]
  },
  {
   "cell_type": "code",
   "execution_count": 958,
   "metadata": {},
   "outputs": [
    {
     "name": "stdout",
     "output_type": "stream",
     "text": [
      "r 0.11439568061303455\n",
      "p 2.2523892745581968e-159\n"
     ]
    }
   ],
   "source": [
    "\n",
    "x = np.array(gifts['Age'])\n",
    "y = np.array(gifts['MonthlyGift'])\n",
    "\n",
    "r,p = pearsonr(x,y)\n",
    "\n",
    "print( \"r\", r)\n",
    "\n",
    "print (\"p\", p)\n"
   ]
  },
  {
   "cell_type": "code",
   "execution_count": 959,
   "metadata": {},
   "outputs": [
    {
     "name": "stdout",
     "output_type": "stream",
     "text": [
      "r -0.06543876587924435\n",
      "p 3.3698476622761694e-53\n"
     ]
    }
   ],
   "source": [
    "gifts['intGender'] = np.where(gifts['Gender']=='Male', 0, 1)\n",
    "x = np.array(gifts['intGender'])\n",
    "y = np.array(gifts['MonthlyGift'])\n",
    "\n",
    "r,p = pearsonr(x,y)\n",
    "\n",
    "print( \"r\", r)\n",
    "\n",
    "print (\"p\", p)\n"
   ]
  },
  {
   "cell_type": "code",
   "execution_count": 960,
   "metadata": {},
   "outputs": [
    {
     "name": "stdout",
     "output_type": "stream",
     "text": [
      "r -0.014326825600317297\n",
      "p 0.0007852961070739414\n"
     ]
    }
   ],
   "source": [
    "x = np.array(gifts['Alumni'])\n",
    "y = np.array(gifts['MonthlyGift'])\n",
    "\n",
    "r,p = pearsonr(x,y)\n",
    "\n",
    "print( \"r\", r)\n",
    "\n",
    "print (\"p\", p)\n"
   ]
  },
  {
   "cell_type": "code",
   "execution_count": 961,
   "metadata": {},
   "outputs": [
    {
     "name": "stdout",
     "output_type": "stream",
     "text": [
      "r 0.005751986854226686\n",
      "p 0.17762798030136526\n"
     ]
    }
   ],
   "source": [
    "x = np.array(gifts['NevadaResident'])\n",
    "y = np.array(gifts['MonthlyGift'])\n",
    "\n",
    "r,p = pearsonr(x,y)\n",
    "\n",
    "print( \"r\", r)\n",
    "\n",
    "print (\"p\", p)\n"
   ]
  },
  {
   "cell_type": "markdown",
   "metadata": {},
   "source": [
    "# Features\n",
    "\n",
    "I will be implementing a supervised machine learning algorithm and will be training to predict montly gift amounts.  Since my predictor variable is continuous, regressional analysis was select.  I wanted to look at the following 4 features: \n",
    "<li>Age: I selected age with the assumption that the older you are the more net worth you have and are able to donate at a hight amount. </li>\n",
    "<li>Gender: I selected gender with the assumption (maybe stereotypically) that males are higher earners and therefore could donate at a higher monthly amount. </li>\n",
    "<li>Alumni:  I selected Alumni with the assumption that an alumnus would have a higher rate of affiliation with the University and therefore more likely to donate. </li>\n",
    "<li>Nevada Resident: I selected Nevada resident with the assumption that proximity to the University would have a higher rate of affiliation and therefore more likely to donate.</li>\n"
   ]
  },
  {
   "cell_type": "markdown",
   "metadata": {},
   "source": [
    "# Machine Learning Implementation\n"
   ]
  },
  {
   "cell_type": "code",
   "execution_count": 962,
   "metadata": {},
   "outputs": [
    {
     "name": "stdout",
     "output_type": "stream",
     "text": [
      "[[1 1 53.0]\n",
      " [1 0 52.0]\n",
      " [0 1 55.0]\n",
      " ...\n",
      " [1 0 57.0]\n",
      " [1 0 57.0]\n",
      " [1 0 57.0]]\n"
     ]
    },
    {
     "data": {
      "text/html": [
       "<div>\n",
       "<style scoped>\n",
       "    .dataframe tbody tr th:only-of-type {\n",
       "        vertical-align: middle;\n",
       "    }\n",
       "\n",
       "    .dataframe tbody tr th {\n",
       "        vertical-align: top;\n",
       "    }\n",
       "\n",
       "    .dataframe thead th {\n",
       "        text-align: right;\n",
       "    }\n",
       "</style>\n",
       "<table border=\"1\" class=\"dataframe\">\n",
       "  <thead>\n",
       "    <tr style=\"text-align: right;\">\n",
       "      <th></th>\n",
       "      <th>NevadaResident</th>\n",
       "      <th>Alumni</th>\n",
       "      <th>Age</th>\n",
       "      <th>MonthlyGift</th>\n",
       "    </tr>\n",
       "  </thead>\n",
       "  <tbody>\n",
       "    <tr>\n",
       "      <th>0</th>\n",
       "      <td>1</td>\n",
       "      <td>1</td>\n",
       "      <td>53.0</td>\n",
       "      <td>100.0</td>\n",
       "    </tr>\n",
       "    <tr>\n",
       "      <th>1</th>\n",
       "      <td>1</td>\n",
       "      <td>0</td>\n",
       "      <td>52.0</td>\n",
       "      <td>2200.0</td>\n",
       "    </tr>\n",
       "    <tr>\n",
       "      <th>2</th>\n",
       "      <td>0</td>\n",
       "      <td>1</td>\n",
       "      <td>55.0</td>\n",
       "      <td>50.0</td>\n",
       "    </tr>\n",
       "    <tr>\n",
       "      <th>3</th>\n",
       "      <td>1</td>\n",
       "      <td>1</td>\n",
       "      <td>52.0</td>\n",
       "      <td>25.0</td>\n",
       "    </tr>\n",
       "    <tr>\n",
       "      <th>4</th>\n",
       "      <td>1</td>\n",
       "      <td>1</td>\n",
       "      <td>52.0</td>\n",
       "      <td>50.0</td>\n",
       "    </tr>\n",
       "  </tbody>\n",
       "</table>\n",
       "</div>"
      ],
      "text/plain": [
       "  NevadaResident Alumni   Age  MonthlyGift\n",
       "0              1      1  53.0        100.0\n",
       "1              1      0  52.0       2200.0\n",
       "2              0      1  55.0         50.0\n",
       "3              1      1  52.0         25.0\n",
       "4              1      1  52.0         50.0"
      ]
     },
     "execution_count": 962,
     "metadata": {},
     "output_type": "execute_result"
    }
   ],
   "source": [
    "g = gifts\n",
    "g.head()\n",
    "gifts.drop(['Gender'], axis=1,inplace = True)\n",
    "g.drop('RID', axis=1, inplace=True)\n",
    "g.drop('GiftCount', axis=1, inplace = True)\n",
    "g.drop('intGender', axis=1, inplace = True)\n",
    "X = g.drop('MonthlyGift', axis=1).values\n",
    "y = g['MonthlyGift'].values\n",
    "print(X)\n",
    "gifts.head()"
   ]
  },
  {
   "cell_type": "code",
   "execution_count": 963,
   "metadata": {},
   "outputs": [
    {
     "data": {
      "text/plain": [
       "0.01208769272649479"
      ]
     },
     "execution_count": 963,
     "metadata": {},
     "output_type": "execute_result"
    }
   ],
   "source": [
    "\n",
    "X_train, X_test, y_train, y_test = train_test_split(X, y, test_size =0.3, random_state =42)\n",
    "reg_all = linear_model.LinearRegression()\n",
    "reg_all.fit(X_train, y_train)\n",
    "y_predict = reg_all.predict(X_test)\n",
    "reg_all.score(X_test, y_test)"
   ]
  },
  {
   "cell_type": "code",
   "execution_count": 964,
   "metadata": {},
   "outputs": [
    {
     "name": "stdout",
     "output_type": "stream",
     "text": [
      "[ 0.00651889  0.00274362 -0.0005498  -0.00315487  0.00768586]\n"
     ]
    },
    {
     "data": {
      "text/plain": [
       "0.002648740523063564"
      ]
     },
     "execution_count": 964,
     "metadata": {},
     "output_type": "execute_result"
    }
   ],
   "source": [
    "#KFold\n",
    "regCV = linear_model.LinearRegression()\n",
    "cv_results = cross_val_score(regCV, X,y, cv=5)\n",
    "print(cv_results)\n",
    "np.mean(cv_results)\n"
   ]
  },
  {
   "cell_type": "code",
   "execution_count": 965,
   "metadata": {},
   "outputs": [
    {
     "data": {
      "text/plain": [
       "0.011970520704751908"
      ]
     },
     "execution_count": 965,
     "metadata": {},
     "output_type": "execute_result"
    }
   ],
   "source": [
    "#Ridge - \n",
    "X_train, X_test, y_train, y_test = train_test_split(X,y, test_size = .3, random_state = 42)\n",
    "ridge = Ridge(alpha=.1, normalize = True)\n",
    "ridge.fit(X_train, y_train)\n",
    "ridge_predict = ridge.predict(X_test)\n",
    "ridge.score(X_test, y_test)"
   ]
  },
  {
   "cell_type": "code",
   "execution_count": 966,
   "metadata": {},
   "outputs": [
    {
     "data": {
      "image/png": "[encoded data removed]",
      "text/plain": [
       "<Figure size 432x288 with 1 Axes>"
      ]
     },
     "metadata": {},
     "output_type": "display_data"
    }
   ],
   "source": [
    "#Lasso\n",
    "names = gifts.drop('MonthlyGift', axis = 1).columns\n",
    "lasso = Lasso(alpha = .1)\n",
    "lasso_coef = lasso.fit(X,y).coef_\n",
    "_ = plt.plot(range(len(names)), lasso_coef)\n",
    "_ = plt.xticks(range(len(names)), names, rotation = 60)\n",
    "_ = plt.ylabel = ('Coefficients')\n",
    "plt.show()"
   ]
  },
  {
   "cell_type": "code",
   "execution_count": null,
   "metadata": {},
   "outputs": [],
   "source": []
  },
  {
   "cell_type": "code",
   "execution_count": 967,
   "metadata": {},
   "outputs": [
    {
     "data": {
      "text/html": [
       "<div>\n",
       "<style scoped>\n",
       "    .dataframe tbody tr th:only-of-type {\n",
       "        vertical-align: middle;\n",
       "    }\n",
       "\n",
       "    .dataframe tbody tr th {\n",
       "        vertical-align: top;\n",
       "    }\n",
       "\n",
       "    .dataframe thead th {\n",
       "        text-align: right;\n",
       "    }\n",
       "</style>\n",
       "<table border=\"1\" class=\"dataframe\">\n",
       "  <thead>\n",
       "    <tr style=\"text-align: right;\">\n",
       "      <th></th>\n",
       "      <th>RID</th>\n",
       "      <th>NevadaResident</th>\n",
       "      <th>Alumni</th>\n",
       "      <th>Age</th>\n",
       "      <th>GiftYear</th>\n",
       "      <th>GiftMonth</th>\n",
       "      <th>GiftCount</th>\n",
       "      <th>MonthlyGift</th>\n",
       "    </tr>\n",
       "  </thead>\n",
       "  <tbody>\n",
       "    <tr>\n",
       "      <th>3</th>\n",
       "      <td>46</td>\n",
       "      <td>1</td>\n",
       "      <td>1</td>\n",
       "      <td>52</td>\n",
       "      <td>2013</td>\n",
       "      <td>6</td>\n",
       "      <td>1</td>\n",
       "      <td>25.0</td>\n",
       "    </tr>\n",
       "    <tr>\n",
       "      <th>9</th>\n",
       "      <td>48</td>\n",
       "      <td>1</td>\n",
       "      <td>1</td>\n",
       "      <td>54</td>\n",
       "      <td>2013</td>\n",
       "      <td>12</td>\n",
       "      <td>1</td>\n",
       "      <td>50.0</td>\n",
       "    </tr>\n",
       "    <tr>\n",
       "      <th>15</th>\n",
       "      <td>101</td>\n",
       "      <td>1</td>\n",
       "      <td>1</td>\n",
       "      <td>51</td>\n",
       "      <td>2013</td>\n",
       "      <td>4</td>\n",
       "      <td>1</td>\n",
       "      <td>125.0</td>\n",
       "    </tr>\n",
       "    <tr>\n",
       "      <th>37</th>\n",
       "      <td>167</td>\n",
       "      <td>1</td>\n",
       "      <td>1</td>\n",
       "      <td>52</td>\n",
       "      <td>2013</td>\n",
       "      <td>2</td>\n",
       "      <td>2</td>\n",
       "      <td>50.0</td>\n",
       "    </tr>\n",
       "    <tr>\n",
       "      <th>38</th>\n",
       "      <td>188</td>\n",
       "      <td>1</td>\n",
       "      <td>1</td>\n",
       "      <td>64</td>\n",
       "      <td>2013</td>\n",
       "      <td>4</td>\n",
       "      <td>1</td>\n",
       "      <td>250.0</td>\n",
       "    </tr>\n",
       "  </tbody>\n",
       "</table>\n",
       "</div>"
      ],
      "text/plain": [
       "    RID  NevadaResident  Alumni  Age  GiftYear  GiftMonth  GiftCount  \\\n",
       "3    46               1       1   52      2013          6          1   \n",
       "9    48               1       1   54      2013         12          1   \n",
       "15  101               1       1   51      2013          4          1   \n",
       "37  167               1       1   52      2013          2          2   \n",
       "38  188               1       1   64      2013          4          1   \n",
       "\n",
       "    MonthlyGift  \n",
       "3          25.0  \n",
       "9          50.0  \n",
       "15        125.0  \n",
       "37         50.0  \n",
       "38        250.0  "
      ]
     },
     "execution_count": 967,
     "metadata": {},
     "output_type": "execute_result"
    }
   ],
   "source": [
    "\n",
    "gifts_all.drop('GiftDate', axis=1, inplace = True)\n",
    "gifts_all.drop('Gender', axis=1, inplace = True)\n",
    "g2013 = gifts_all[gifts_all['GiftYear']==2013]\n",
    "g2017 = gifts_all[gifts_all['GiftYear']==2017]\n",
    "\n",
    "\n",
    "g2013.head()"
   ]
  },
  {
   "cell_type": "code",
   "execution_count": 968,
   "metadata": {},
   "outputs": [
    {
     "data": {
      "text/plain": [
       "0.002015653506341253"
      ]
     },
     "execution_count": 968,
     "metadata": {},
     "output_type": "execute_result"
    }
   ],
   "source": [
    "X1 = g2013.drop('MonthlyGift', axis=1).values\n",
    "y1 = g2013['MonthlyGift'].values\n",
    "\n",
    "\n",
    "X_train, X_test, y_train, y_test = train_test_split(X1,y1, test_size = .3, random_state = 42)\n",
    "ridge = Ridge(alpha=.1, normalize = True)\n",
    "ridge.fit(X_train, y_train)\n",
    "ridge_predict = ridge.predict(X_test)\n",
    "ridge.score(X_test, y_test)"
   ]
  },
  {
   "cell_type": "code",
   "execution_count": 969,
   "metadata": {},
   "outputs": [
    {
     "data": {
      "text/plain": [
       "0.0022795577334996375"
      ]
     },
     "execution_count": 969,
     "metadata": {},
     "output_type": "execute_result"
    }
   ],
   "source": [
    "X1 = g2017.drop('MonthlyGift', axis=1).values\n",
    "y1 = g2017['MonthlyGift'].values\n",
    "\n",
    "\n",
    "X_train, X_test, y_train, y_test = train_test_split(X1,y1, test_size = .3, random_state = 42)\n",
    "ridge = Ridge(alpha=.1, normalize = True)\n",
    "ridge.fit(X_train, y_train)\n",
    "ridge_predict = ridge.predict(X_test)\n",
    "ridge.score(X_test, y_test)"
   ]
  },
  {
   "cell_type": "markdown",
   "metadata": {},
   "source": [
    "# Summary\n",
    "\n",
    "The project was challenging and enlightening.  I was actually surprised that my model dismally failed! I thought that those would be ideal feature to predict monthly donations.  Obviously, I would completely trash this model and start from scratch think that maybe I should have further reduce the monthly gift outlier down to the 50K range.  Maybe that would have given me better results.  With the dismal results, I don’t think that it would be cost effective to pursue this model, although I think that another model is worth pursuing.  Prior to pursuing I would do more industry research to see what others have found that are good features to evaluate in a donation model.  \n",
    "\n",
    "I would accept the null hypothesis as the combination of the features were not statistically significant.  However, the only feature that was not statistically significant was Nevada resident with a p-value of 0.18, all the other p-values were zero.  So, that being said maybe I would drop the Nevada resident and train the model again.\n",
    "\n",
    "I was genuinely surprised that the alumni giving was less than non-alumni and the spread was quite large.  The average giving amount was close, but alumni gave less on average.  But the spread for non-alumni was over $1,000 more than alumni.\n",
    "The Lasso regressing indicated that Alumni was a strong feature, however it was strong in the wrong direction that I had anticipated. I could not get the gender feature to properly work on the Lasso regression, even when I converted to integer.  But I will further test that as see if that’s a strong feature as well. \n",
    "\n",
    "The k-fold test failed even more than the standard regression analysis, once again proving that this model need to be complete re-worked as previously discussed.  The Ridge regression show a little more promise but still severely lacking at only 1\\%\\! But I guess you have to failure your first ML to start the learning process.\n",
    "\n",
    "I was also intrigued that males continue to outpace females in with a higher donation amount.  Not that I was shocked, but I had hoped that it would not be true.  I would like to further investigate and compare the difference say from this analysis compared to say 1990 to 1995 and see if the gap is closing.  \n",
    "\n",
    "In closing, I think that this project provided students with real world experience and tools that will be useful in the job market.  I think that I need to do some additional ML work, before I fully understand and can competently design, but it was a good introductory course in ML.\n",
    "\n",
    "\n"
   ]
  }
 ],
 "metadata": {
  "kernelspec": {
   "display_name": "Python 3",
   "language": "python",
   "name": "python3"
  },
  "language_info": {
   "codemirror_mode": {
    "name": "ipython",
    "version": 3
   },
   "file_extension": ".py",
   "mimetype": "text/x-python",
   "name": "python",
   "nbconvert_exporter": "python",
   "pygments_lexer": "ipython3",
   "version": "3.6.5"
  }
 },
 "nbformat": 4,
 "nbformat_minor": 2
}
